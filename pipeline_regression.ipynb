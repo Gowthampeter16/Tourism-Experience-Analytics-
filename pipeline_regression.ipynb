{
 "cells": [
  {
   "cell_type": "code",
   "execution_count": 3,
   "id": "e1ce438a",
   "metadata": {},
   "outputs": [],
   "source": [
    "import pandas as pd\n",
    "from sklearn.model_selection import train_test_split\n",
    "from sklearn.pipeline import Pipeline\n",
    "from sklearn.compose import ColumnTransformer\n",
    "from sklearn.preprocessing import OneHotEncoder, StandardScaler\n",
    "from xgboost import XGBRegressor\n",
    "import joblib"
   ]
  },
  {
   "cell_type": "markdown",
   "id": "8882d806",
   "metadata": {},
   "source": [
    "feature selection"
   ]
  },
  {
   "cell_type": "code",
   "execution_count": 4,
   "id": "d1c56752",
   "metadata": {},
   "outputs": [],
   "source": [
    "df = pd.read_excel('df_cleaned.xlsx')"
   ]
  },
  {
   "cell_type": "code",
   "execution_count": 7,
   "id": "14d846a2",
   "metadata": {},
   "outputs": [
    {
     "data": {
      "text/plain": [
       "Index(['Unnamed: 0', 'TransactionId', 'UserId', 'VisitYear', 'VisitMonth',\n",
       "       'VisitModeId', 'AttractionId', 'Rating', 'AttractionCityId',\n",
       "       'AttractionTypeId', 'Attraction', 'AttractionAddress', 'VisitMode',\n",
       "       'ContinentId_x', 'RegionId_x', 'CountryId_x', 'CityId', 'Continent',\n",
       "       'Region', 'ContinentId_y', 'Country', 'RegionId_y', 'CityName',\n",
       "       'CountryId_y', 'VisitDate', 'UserAvgRating', 'UserVisitCount',\n",
       "       'AttrVisitCount', 'VisitMode_Region', 'VisitDay', 'VisitDayOfWeek',\n",
       "       'UserAvgRating_BUSINESS', 'UserAvgRating_COUPLES',\n",
       "       'UserAvgRating_FAMILY', 'UserAvgRating_FRIENDS', 'UserAvgRating_SOLO'],\n",
       "      dtype='object')"
      ]
     },
     "execution_count": 7,
     "metadata": {},
     "output_type": "execute_result"
    }
   ],
   "source": [
    "df.columns"
   ]
  },
  {
   "cell_type": "code",
   "execution_count": 9,
   "id": "a9741073",
   "metadata": {},
   "outputs": [],
   "source": [
    "X = df[['Continent', 'Region', 'Country', 'CityName', 'VisitYear', 'VisitMonth', 'VisitMode', 'Attraction', 'UserAvgRating', 'UserVisitCount', 'AttrVisitCount']]\n",
    "y = df['Rating']"
   ]
  },
  {
   "cell_type": "markdown",
   "id": "0efc6c9d",
   "metadata": {},
   "source": [
    "Preprocessing"
   ]
  },
  {
   "cell_type": "code",
   "execution_count": 11,
   "id": "9dfbc479",
   "metadata": {},
   "outputs": [],
   "source": [
    "categorical_features = ['Continent', 'Region', 'Country', 'CityName', 'VisitMode', 'Attraction']\n",
    "numerical_features = ['VisitYear', 'VisitMonth', 'UserAvgRating', 'UserVisitCount', 'AttrVisitCount']"
   ]
  },
  {
   "cell_type": "code",
   "execution_count": 12,
   "id": "080af4be",
   "metadata": {},
   "outputs": [],
   "source": [
    "categorical_transformer = OneHotEncoder(handle_unknown='ignore')\n",
    "numerical_transformer = StandardScaler()"
   ]
  },
  {
   "cell_type": "code",
   "execution_count": 13,
   "id": "685a8a8a",
   "metadata": {},
   "outputs": [],
   "source": [
    "preprocessor = ColumnTransformer(\n",
    "    transformers=[\n",
    "        ('cat', categorical_transformer, categorical_features),\n",
    "        ('num', numerical_transformer, numerical_features)\n",
    "    ]\n",
    ")"
   ]
  },
  {
   "cell_type": "code",
   "execution_count": 14,
   "id": "bece5257",
   "metadata": {},
   "outputs": [],
   "source": [
    "xgb_model = XGBRegressor(n_estimators=100, random_state=42)"
   ]
  },
  {
   "cell_type": "markdown",
   "id": "c1cde1ca",
   "metadata": {},
   "source": [
    "Model Pipeline"
   ]
  },
  {
   "cell_type": "code",
   "execution_count": 15,
   "id": "95f9288f",
   "metadata": {},
   "outputs": [],
   "source": [
    "pipeline = Pipeline(steps=[\n",
    "    ('preprocessing', preprocessor),\n",
    "    ('model', xgb_model)\n",
    "])"
   ]
  },
  {
   "cell_type": "code",
   "execution_count": 16,
   "id": "b3c150c3",
   "metadata": {},
   "outputs": [
    {
     "name": "stdout",
     "output_type": "stream",
     "text": [
      "✅ Pipeline trained and saved!\n"
     ]
    }
   ],
   "source": [
    "X_train, X_test, y_train, y_test = train_test_split(X, y, test_size=0.2, random_state=42)\n",
    "\n",
    "# Train\n",
    "pipeline.fit(X_train, y_train)\n",
    "\n",
    "# Save pipeline\n",
    "joblib.dump(pipeline, 'pipeline_xgb.pkl')\n",
    "\n",
    "print(\"✅ Pipeline trained and saved!\")"
   ]
  },
  {
   "cell_type": "markdown",
   "id": "237602b2",
   "metadata": {},
   "source": [
    "Model performance Metrices"
   ]
  },
  {
   "cell_type": "code",
   "execution_count": 17,
   "id": "868ac68d",
   "metadata": {},
   "outputs": [
    {
     "name": "stdout",
     "output_type": "stream",
     "text": [
      "🏋️‍♂️ Training Performance:\n",
      "RMSE: 0.465\n",
      "R²: 0.771\n",
      "\n",
      "🧪 Testing Performance:\n",
      "RMSE: 0.503\n",
      "R²: 0.728\n"
     ]
    }
   ],
   "source": [
    "from sklearn.metrics import mean_squared_error, r2_score\n",
    "import numpy as np\n",
    "\n",
    "# Predict on training set\n",
    "y_train_pred = pipeline.predict(X_train)\n",
    "\n",
    "# Predict on test set\n",
    "y_test_pred = pipeline.predict(X_test)\n",
    "\n",
    "# Calculate metrics\n",
    "train_mse = mean_squared_error(y_train, y_train_pred)\n",
    "test_mse = mean_squared_error(y_test, y_test_pred)\n",
    "\n",
    "train_rmse = np.sqrt(train_mse)\n",
    "test_rmse = np.sqrt(test_mse)\n",
    "\n",
    "train_r2 = r2_score(y_train, y_train_pred)\n",
    "test_r2 = r2_score(y_test, y_test_pred)\n",
    "\n",
    "print(\"🏋️‍♂️ Training Performance:\")\n",
    "print(f\"RMSE: {train_rmse:.3f}\")\n",
    "print(f\"R²: {train_r2:.3f}\")\n",
    "\n",
    "print(\"\\n🧪 Testing Performance:\")\n",
    "print(f\"RMSE: {test_rmse:.3f}\")\n",
    "print(f\"R²: {test_r2:.3f}\")"
   ]
  }
 ],
 "metadata": {
  "kernelspec": {
   "display_name": "Python 3",
   "language": "python",
   "name": "python3"
  },
  "language_info": {
   "codemirror_mode": {
    "name": "ipython",
    "version": 3
   },
   "file_extension": ".py",
   "mimetype": "text/x-python",
   "name": "python",
   "nbconvert_exporter": "python",
   "pygments_lexer": "ipython3",
   "version": "3.11.9"
  }
 },
 "nbformat": 4,
 "nbformat_minor": 5
}
