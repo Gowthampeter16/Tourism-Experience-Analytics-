{
 "cells": [
  {
   "cell_type": "code",
   "execution_count": 15,
   "id": "9f0d64fd",
   "metadata": {},
   "outputs": [],
   "source": [
    "import pandas as pd\n",
    "import numpy as np\n",
    "from sklearn.model_selection import train_test_split\n",
    "from sklearn.preprocessing import StandardScaler, OneHotEncoder\n",
    "from sklearn.compose import ColumnTransformer\n",
    "from sklearn.pipeline import Pipeline\n",
    "from sklearn.neighbors import KNeighborsClassifier\n",
    "import joblib"
   ]
  },
  {
   "cell_type": "code",
   "execution_count": 16,
   "id": "187c0d38",
   "metadata": {},
   "outputs": [],
   "source": [
    "df = pd.read_excel('df_cleaned.xlsx')"
   ]
  },
  {
   "cell_type": "markdown",
   "id": "905a4372",
   "metadata": {},
   "source": [
    "Data Cleaning and feature selection"
   ]
  },
  {
   "cell_type": "code",
   "execution_count": 17,
   "metadata": {},
   "outputs": [],
   "source": [
    "features = ['Continent', 'Region', 'CityName', 'Country', 'AttractionTypeId', \n",
    "            'Attraction', 'UserId', 'UserAvgRating', 'AttrVisitCount', \n",
    "            'VisitMode_Region', 'VisitMonth', 'VisitYear']\n",
    "\n",
    "target = 'VisitMode'"
   ]
  },
  {
   "cell_type": "code",
   "execution_count": 18,
   "id": "6c95222f",
   "metadata": {},
   "outputs": [],
   "source": [
    "X = df[features]\n",
    "y = df[target]"
   ]
  },
  {
   "cell_type": "code",
   "execution_count": 19,
   "id": "4467de45",
   "metadata": {},
   "outputs": [],
   "source": [
    "categorical_features = ['Continent', 'Region', 'CityName', 'Country', \n",
    "                        'AttractionTypeId', 'Attraction', 'UserId', 'VisitMode_Region']\n",
    "\n",
    "numeric_features = ['UserAvgRating', 'AttrVisitCount', 'VisitMonth', 'VisitYear']"
   ]
  },
  {
   "cell_type": "markdown",
   "id": "24b78830",
   "metadata": {},
   "source": [
    "Preprocessing"
   ]
  },
  {
   "cell_type": "code",
   "execution_count": 20,
   "id": "17549f78",
   "metadata": {},
   "outputs": [],
   "source": [
    "categorical_transformer = OneHotEncoder(handle_unknown='ignore')\n",
    "numeric_transformer = StandardScaler()\n",
    "\n",
    "preprocessor = ColumnTransformer(\n",
    "    transformers=[\n",
    "        ('cat', categorical_transformer, categorical_features),\n",
    "        ('num', numeric_transformer, numeric_features)\n",
    "    ])\n"
   ]
  },
  {
   "cell_type": "markdown",
   "id": "10d1783a",
   "metadata": {},
   "source": [
    "Pipeline building"
   ]
  },
  {
   "cell_type": "code",
   "execution_count": 21,
   "id": "5617d68e",
   "metadata": {},
   "outputs": [],
   "source": [
    "pipeline = Pipeline(steps=[\n",
    "    ('preprocessor', preprocessor),\n",
    "    ('classifier', KNeighborsClassifier(n_neighbors=5))  # KNN with k=5\n",
    "])"
   ]
  },
  {
   "cell_type": "markdown",
   "id": "9177bda7",
   "metadata": {},
   "source": [
    "Model Training"
   ]
  },
  {
   "cell_type": "code",
   "execution_count": 22,
   "id": "22ee9324",
   "metadata": {},
   "outputs": [
    {
     "data": {
      "text/plain": [
       "['knn_pipeline_model.pkl']"
      ]
     },
     "execution_count": 22,
     "metadata": {},
     "output_type": "execute_result"
    }
   ],
   "source": [
    "X_train, X_test, y_train, y_test = train_test_split(X, y, test_size=0.2, random_state=42)\n",
    "pipeline.fit(X_train, y_train)\n",
    "joblib.dump(pipeline, 'knn_pipeline_model.pkl')"
   ]
  }
 ],
 "metadata": {
  "kernelspec": {
   "display_name": "Python 3",
   "language": "python",
   "name": "python3"
  },
  "language_info": {
   "codemirror_mode": {
    "name": "ipython",
    "version": 3
   },
   "file_extension": ".py",
   "mimetype": "text/x-python",
   "name": "python",
   "nbconvert_exporter": "python",
   "pygments_lexer": "ipython3",
   "version": "3.11.9"
  }
 },
 "nbformat": 4,
 "nbformat_minor": 5
}
